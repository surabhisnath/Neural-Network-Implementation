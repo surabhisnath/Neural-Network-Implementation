{
 "cells": [
  {
   "cell_type": "code",
   "execution_count": 47,
   "metadata": {},
   "outputs": [],
   "source": [
    "import os\n",
    "import numpy\n",
    "import pickle\n",
    "import math\n",
    "import h5py\n",
    "import os\n",
    "from numpy.random import normal\n",
    "from sklearn.model_selection import train_test_split\n",
    "from sklearn.metrics import accuracy_score\n",
    "import matplotlib.pyplot as plt"
   ]
  },
  {
   "cell_type": "code",
   "execution_count": 48,
   "metadata": {},
   "outputs": [],
   "source": [
    "def relu(val):\n",
    "    toret = []\n",
    "    for i in range(len(val)):\n",
    "        if(val[i][0]>0):\n",
    "            toret.append(val[i][0])\n",
    "        else:\n",
    "            toret.append(0.01*val[i][0])\n",
    "    toret = numpy.array(toret)\n",
    "    toret = numpy.reshape(toret, (toret.shape[0],1))\n",
    "    return toret"
   ]
  },
  {
   "cell_type": "code",
   "execution_count": 49,
   "metadata": {},
   "outputs": [],
   "source": [
    "def softmax(vec):\n",
    "    for i in range(len(vec)):\n",
    "        vec[i] = vec[i].tolist()\n",
    "    return numpy.exp(vec)/numpy.sum(numpy.exp(vec))"
   ]
  },
  {
   "cell_type": "code",
   "execution_count": 50,
   "metadata": {},
   "outputs": [],
   "source": [
    "def relu_derivative(val):\n",
    "    deriv = []\n",
    "    for i in range(len(val)):\n",
    "        if(val[i] < 0):\n",
    "            deriv.append(0.1)\n",
    "        else:\n",
    "            deriv.append(1)\n",
    "    deriv = numpy.array(deriv)\n",
    "    deriv = numpy.reshape(deriv, (deriv.shape[0],1))\n",
    "    return deriv"
   ]
  },
  {
   "cell_type": "code",
   "execution_count": 51,
   "metadata": {},
   "outputs": [],
   "source": [
    "def forwardprop(img, weights, biases):\n",
    "    out = img\n",
    "    layer_outputs = []\n",
    "    layer_outputs.append(out)\n",
    "    \n",
    "    for j in range(len(weights)):\n",
    "        out = relu(numpy.dot(weights[j].T,out) + biases[j])\n",
    "        layer_outputs.append(out)\n",
    "    \n",
    "    layers_outputs = softmax(out)\n",
    "    return layer_outputs"
   ]
  },
  {
   "cell_type": "code",
   "execution_count": 52,
   "metadata": {},
   "outputs": [],
   "source": [
    "def backwardprop(layer_output, weights, biases, expected):\n",
    "    deltas = []\n",
    "    wei = []\n",
    "    bia = []\n",
    "    d = layer_output[-1] - expected\n",
    "    \n",
    "    dw = numpy.dot(layer_output[-2],d.T)\n",
    "    db = d\n",
    "    \n",
    "    wei.append(dw)\n",
    "    bia.append(db)\n",
    "    deltas.append(d)\n",
    "    \n",
    "    #Derivative of sigmoid\n",
    "    cnt = 1\n",
    "    for i in range(len(weights)-1, 0, -1):\n",
    "        \n",
    "        d = numpy.dot(weights[-cnt], deltas[-1]) * relu_derivative(layer_output[i])\n",
    "        \n",
    "        if len(layer_output[-(cnt+2)].shape) == 1:\n",
    "            layer_output[-(cnt+2)] = numpy.expand_dims(layer_output[-(cnt+2)], axis = 0)\n",
    "        \n",
    "        dw = numpy.dot((layer_output[-(cnt+2)]),d.T)\n",
    "        db = d\n",
    "        wei.append(dw)\n",
    "        bia.append(db)\n",
    "        deltas.append(d)\n",
    "        cnt += 1\n",
    "        \n",
    "    return wei, bia"
   ]
  },
  {
   "cell_type": "code",
   "execution_count": 53,
   "metadata": {},
   "outputs": [],
   "source": [
    "def update_weights(wei_tosend, bia_tosend, weights, biases, alpha):\n",
    "    for q in range(len(wei_tosend)):\n",
    "        wei_tosend[q] = numpy.multiply(wei_tosend[q], alpha)\n",
    "        bia_tosend[q] = numpy.multiply(bia_tosend[q], alpha)\n",
    "    \n",
    "    for r in range(len(weights)):\n",
    "        weights[r] = weights[r] - wei_tosend[len(weights) - 1 - r]\n",
    "        biases[r] = biases[r] - bia_tosend[len(weights) - 1 - r]\n",
    "    return weights, biases"
   ]
  },
  {
   "cell_type": "code",
   "execution_count": 54,
   "metadata": {},
   "outputs": [],
   "source": [
    "with h5py.File('C:/Users/Surabhi/Desktop/IIITD/5th SEM/ML/Assignments/HW3_NN/data/Q1/MNIST_Subset.h5') as data:\n",
    "    X = data['X'][:]\n",
    "    Y = data['Y'][:]\n",
    "\n",
    "X = X.reshape((X.shape[0],X.shape[1]*X.shape[2]))"
   ]
  },
  {
   "cell_type": "code",
   "execution_count": 55,
   "metadata": {},
   "outputs": [],
   "source": [
    "#Random weights initialize\n",
    "num_layers = 5\n",
    "layers = [784, 100, 50, 50, 2]\n",
    "\n",
    "weights = []\n",
    "biases = []\n",
    "\n",
    "for i in range(1,len(layers)):\n",
    "    b = normal(0.0, 0.01, layers[i])\n",
    "    biases.append(b)\n",
    "    w = normal(0.0, 0.01, (layers[i-1],layers[i]))\n",
    "    weights.append(w)\n",
    "    \n",
    "weights = numpy.array(weights)\n",
    "\n",
    "biases = numpy.array(biases)\n",
    "for k in range (len(biases)):\n",
    "    biases[k] = numpy.reshape(biases[k], (biases[k].shape[0],1))"
   ]
  },
  {
   "cell_type": "code",
   "execution_count": 56,
   "metadata": {},
   "outputs": [
    {
     "name": "stdout",
     "output_type": "stream",
     "text": [
      "0\n",
      "ACCURACY TRAIN =  0.4961\n",
      "ACCURACY TEST =  0.47871089155492824\n",
      "1\n",
      "ACCURACY TRAIN =  0.9269\n",
      "ACCURACY TEST =  0.9346036226770171\n",
      "2\n",
      "ACCURACY TRAIN =  0.9528\n",
      "ACCURACY TEST =  0.9578922606445542\n",
      "3\n",
      "ACCURACY TRAIN =  0.9613\n",
      "ACCURACY TEST =  0.9644789461303223\n",
      "4\n",
      "ACCURACY TRAIN =  0.9662\n",
      "ACCURACY TEST =  0.9691837214772995\n",
      "5\n",
      "ACCURACY TRAIN =  0.9721\n",
      "ACCURACY TEST =  0.9727123029875323\n",
      "6\n",
      "ACCURACY TRAIN =  0.977\n",
      "ACCURACY TEST =  0.9764761232651141\n",
      "7\n",
      "ACCURACY TRAIN =  0.9799\n",
      "ACCURACY TEST =  0.9809456598447425\n",
      "8\n",
      "ACCURACY TRAIN =  0.9825\n",
      "ACCURACY TEST =  0.9818866149141379\n",
      "9\n",
      "ACCURACY TRAIN =  0.9851\n",
      "ACCURACY TEST =  0.9821218536814867\n",
      "10\n",
      "ACCURACY TRAIN =  0.9871\n",
      "ACCURACY TEST =  0.9828275699835333\n",
      "11\n",
      "ACCURACY TRAIN =  0.9884\n",
      "ACCURACY TEST =  0.9840037638202775\n",
      "12\n",
      "ACCURACY TRAIN =  0.9898\n",
      "ACCURACY TEST =  0.9844742413549753\n",
      "13\n",
      "ACCURACY TRAIN =  0.9913\n",
      "ACCURACY TEST =  0.9847094801223242\n",
      "14\n",
      "ACCURACY TRAIN =  0.9915\n",
      "ACCURACY TEST =  0.9847094801223242\n",
      "15\n",
      "ACCURACY TRAIN =  0.9922\n",
      "ACCURACY TEST =  0.984944718889673\n",
      "16\n",
      "ACCURACY TRAIN =  0.9929\n",
      "ACCURACY TEST =  0.9851799576570219\n",
      "17\n",
      "ACCURACY TRAIN =  0.9941\n",
      "ACCURACY TEST =  0.9854151964243707\n",
      "18\n",
      "ACCURACY TRAIN =  0.9944\n",
      "ACCURACY TEST =  0.9863561514937662\n",
      "19\n",
      "ACCURACY TRAIN =  0.9949\n",
      "ACCURACY TEST =  0.9870618677958127\n"
     ]
    }
   ],
   "source": [
    "x_train, x_test, y_train, y_test = train_test_split(X, Y, test_size = 0.29825)\n",
    "\n",
    "num_images = len(x_train)\n",
    "batch_size = 20\n",
    "num_epochs = 20\n",
    "alpha = 0.001\n",
    "num_outputs = 2\n",
    "\n",
    "wei_tosend = []\n",
    "bia_tosend = []\n",
    "\n",
    "expected = []\n",
    "for a in range(len(y_train)):\n",
    "    if y_train[a] == 7:\n",
    "        expected.append(numpy.array([1,0]))\n",
    "        \n",
    "    elif y_train[a] == 9:\n",
    "        expected.append(numpy.array([0,1]))\n",
    "\n",
    "for k in range (len(expected)):\n",
    "    expected[k] = numpy.reshape(expected[k], (expected[k].shape[0],1))\n",
    "\n",
    "cnt = 0\n",
    "acc_arr = []\n",
    "acc_arr_train = []\n",
    "\n",
    "for epoch in range(num_epochs):\n",
    "    \n",
    "    for img in range(num_images):\n",
    "        \n",
    "        if(img % batch_size == 0 and img != 0):\n",
    "            for m in range(len(wei)):\n",
    "                wei_tosend[m] = numpy.divide(wei_tosend[m], batch_size)\n",
    "                bia_tosend[m] = numpy.divide(bia_tosend[m], batch_size)\n",
    "\n",
    "            \n",
    "            weights, biases = update_weights(wei_tosend, bia_tosend, weights, biases, alpha)\n",
    "            \n",
    "            wei_tosend = []\n",
    "            bia_tosend = []\n",
    "            cnt = 0\n",
    "            \n",
    "        layer_outputs = forwardprop(numpy.reshape(x_train[img], (x_train[img].shape[0],1)), weights, biases)\n",
    "\n",
    "        wei, bia = backwardprop(layer_outputs, weights, biases, expected[img])\n",
    "        \n",
    "        if(cnt == 0):\n",
    "            wei_tosend = wei\n",
    "            bia_tosend = bia\n",
    "            cnt = 1\n",
    "            \n",
    "        else:\n",
    "            for m in range(len(wei)):\n",
    "                wei_tosend[m] = numpy.add(wei_tosend[m], wei[m])\n",
    "                bia_tosend[m] = numpy.add(bia_tosend[m], bia[m])\n",
    "    \n",
    "    print(epoch)\n",
    "    \n",
    "    predictions_train = []\n",
    "    for train in range(len(x_train)):\n",
    "        layer_outputs = forwardprop(numpy.reshape(x_train[train], (x_train[train].shape[0],1)), weights, biases)\n",
    "\n",
    "        class_pred = numpy.argmax(layer_outputs[-1])\n",
    "        \n",
    "        if(class_pred == 0):\n",
    "            predictions_train.append(7)\n",
    "        elif(class_pred == 1):\n",
    "            predictions_train.append(9)\n",
    "    \n",
    "    \n",
    "    accuracy = accuracy_score(predictions_train, y_train)\n",
    "    print(\"ACCURACY TRAIN = \", accuracy)\n",
    "    acc_arr_train.append(accuracy)\n",
    "    \n",
    "    \n",
    "    predictions = []\n",
    "    for test in range(len(x_test)):\n",
    "        layer_outputs = forwardprop(numpy.reshape(x_test[test], (x_test[test].shape[0],1)), weights, biases)\n",
    "        class_pred = numpy.argmax(layer_outputs[-1])\n",
    "        \n",
    "        if(class_pred == 0):\n",
    "            predictions.append(7)\n",
    "        elif(class_pred == 1):\n",
    "            predictions.append(9)\n",
    "    \n",
    "    \n",
    "    accuracy = accuracy_score(predictions, y_test)\n",
    "    print(\"ACCURACY TEST = \", accuracy)\n",
    "    acc_arr.append(accuracy)"
   ]
  },
  {
   "cell_type": "code",
   "execution_count": 57,
   "metadata": {},
   "outputs": [],
   "source": [
    "f = open('weights4.pkl', 'wb')\n",
    "pickle.dump(weights, f)\n",
    "f.close()\n",
    "f = open('biases4.pkl', 'wb')\n",
    "pickle.dump(biases, f)\n",
    "f.close()"
   ]
  },
  {
   "cell_type": "code",
   "execution_count": 58,
   "metadata": {},
   "outputs": [
    {
     "data": {
      "image/png": "[encoded data removed]",
      "text/plain": [
       "<Figure size 432x288 with 1 Axes>"
      ]
     },
     "metadata": {},
     "output_type": "display_data"
    }
   ],
   "source": [
    "it = numpy.arange(1,len(acc_arr_train)+1)\n",
    "plt.plot(it,acc_arr_train)\n",
    "plt.title(\"Accuracy vs Epochs for Train set\")\n",
    "plt.xlabel(\"Epochs\")\n",
    "plt.ylabel(\"Accuracy\")\n",
    "plt.show()"
   ]
  },
  {
   "cell_type": "code",
   "execution_count": 59,
   "metadata": {},
   "outputs": [
    {
     "data": {
      "image/png": "[encoded data removed]",
      "text/plain": [
       "<Figure size 432x288 with 1 Axes>"
      ]
     },
     "metadata": {},
     "output_type": "display_data"
    }
   ],
   "source": [
    "it = numpy.arange(1,len(acc_arr)+1)\n",
    "plt.plot(it,acc_arr)\n",
    "plt.title(\"Accuracy vs Epochs for Test set\")\n",
    "plt.xlabel(\"Epochs\")\n",
    "plt.ylabel(\"Accuracy\")\n",
    "plt.show()"
   ]
  },
  {
   "cell_type": "code",
   "execution_count": null,
   "metadata": {},
   "outputs": [],
   "source": []
  }
 ],
 "metadata": {
  "kernelspec": {
   "display_name": "Python 3",
   "language": "python",
   "name": "python3"
  },
  "language_info": {
   "codemirror_mode": {
    "name": "ipython",
    "version": 3
   },
   "file_extension": ".py",
   "mimetype": "text/x-python",
   "name": "python",
   "nbconvert_exporter": "python",
   "pygments_lexer": "ipython3",
   "version": "3.5.2"
  }
 },
 "nbformat": 4,
 "nbformat_minor": 2
}
