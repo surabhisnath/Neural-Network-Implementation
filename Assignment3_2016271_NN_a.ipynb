{
 "cells": [
  {
   "cell_type": "code",
   "execution_count": 1,
   "metadata": {},
   "outputs": [],
   "source": [
    "import numpy\n",
    "import pickle\n",
    "import math\n",
    "import h5py\n",
    "import os\n",
    "from numpy.random import normal\n",
    "from sklearn.model_selection import train_test_split\n",
    "from sklearn.metrics import accuracy_score\n",
    "import matplotlib.pyplot as plt"
   ]
  },
  {
   "cell_type": "code",
   "execution_count": 2,
   "metadata": {},
   "outputs": [],
   "source": [
    "def sigact(val):\n",
    "    val = -1*val\n",
    "    toret = 1/(1+numpy.exp(val))\n",
    "    return toret "
   ]
  },
  {
   "cell_type": "code",
   "execution_count": 3,
   "metadata": {},
   "outputs": [],
   "source": [
    "def softmax(vec):\n",
    "    return numpy.exp(vec)/numpy.sum(numpy.exp(vec))"
   ]
  },
  {
   "cell_type": "code",
   "execution_count": 4,
   "metadata": {},
   "outputs": [],
   "source": [
    "def sigact_derivative(val):\n",
    "    save = sigact(val)\n",
    "    toret = save*(1-save)\n",
    "    if(len(toret.shape) == 1):\n",
    "        toret = numpy.expand_dims(toret, axis = 0)\n",
    "    return toret"
   ]
  },
  {
   "cell_type": "code",
   "execution_count": 5,
   "metadata": {},
   "outputs": [],
   "source": [
    "def forwardprop(img, weights, biases):\n",
    "    out = img\n",
    "    layer_outputs = []\n",
    "    layer_outputs.append(out)\n",
    "    \n",
    "    for j in range(len(weights)):\n",
    "        out = sigact(numpy.dot(weights[j].T,out) + biases[j])\n",
    "        layer_outputs.append(out)\n",
    "    \n",
    "    layers_outputs = softmax(out)\n",
    "    return layer_outputs"
   ]
  },
  {
   "cell_type": "code",
   "execution_count": 6,
   "metadata": {},
   "outputs": [],
   "source": [
    "def backwardprop(layer_output, weights, biases, expected):\n",
    "    deltas = []\n",
    "    wei = []\n",
    "    bia = []\n",
    "    \n",
    "    d = layer_output[-1] - expected\n",
    "    dw = numpy.dot(layer_output[-2],d.T)\n",
    "    db = d\n",
    "    \n",
    "    wei.append(dw)\n",
    "    bia.append(db)\n",
    "    deltas.append(d)\n",
    "    \n",
    "    #Derivative of sigmoid\n",
    "    cnt = 1\n",
    "    for i in range(len(weights)-1, 0, -1):\n",
    "        \n",
    "        d = numpy.dot(weights[-(cnt)], deltas[-1]) * sigact_derivative(layer_output[i])\n",
    "        \n",
    "        if len(layer_output[-(cnt+2)].shape) == 1:\n",
    "            layer_output[-(cnt+2)] = numpy.expand_dims(layer_output[-(cnt+2)], axis = 0)\n",
    "        \n",
    "        dw = numpy.dot((layer_output[-(cnt+2)]),d.T)\n",
    "        \n",
    "        db = d\n",
    "        wei.append(dw)\n",
    "        bia.append(db)\n",
    "        deltas.append(d)\n",
    "        cnt += 1\n",
    "        \n",
    "    return wei, bia"
   ]
  },
  {
   "cell_type": "code",
   "execution_count": 7,
   "metadata": {},
   "outputs": [],
   "source": [
    "def update_weights(wei_tosend, bia_tosend, weights, biases, alpha):\n",
    "    for q in range(len(wei_tosend)):\n",
    "        wei_tosend[q] = numpy.multiply(wei_tosend[q], alpha)\n",
    "        bia_tosend[q] = numpy.multiply(bia_tosend[q], alpha)\n",
    "    \n",
    "    for r in range(len(weights)):\n",
    "        weights[r] = weights[r] - wei_tosend[len(weights) - 1 - r]\n",
    "        biases[r] = biases[r] - bia_tosend[len(weights) - 1 - r]\n",
    "    return weights, biases"
   ]
  },
  {
   "cell_type": "code",
   "execution_count": 8,
   "metadata": {},
   "outputs": [],
   "source": [
    "with h5py.File('C:/Users/Surabhi/Desktop/IIITD/5th SEM/ML/Assignments/HW3_NN/data/Q1/MNIST_Subset.h5') as data:\n",
    "    X = data['X'][:]\n",
    "    Y = data['Y'][:]\n",
    "\n",
    "X = X.reshape((X.shape[0],X.shape[1]*X.shape[2]))"
   ]
  },
  {
   "cell_type": "code",
   "execution_count": 9,
   "metadata": {},
   "outputs": [],
   "source": [
    "#Random weights initialize\n",
    "num_layers = 3\n",
    "layers = [784, 100, 2]\n",
    "\n",
    "weights = []\n",
    "biases = []\n",
    "\n",
    "for i in range(1,len(layers)):\n",
    "    b = normal(0.0, 0.001, layers[i])\n",
    "    biases.append(b)\n",
    "    w = normal(0.0, 0.001, (layers[i-1],layers[i]))\n",
    "    weights.append(w)\n",
    "    \n",
    "weights = numpy.array(weights)\n",
    "\n",
    "biases = numpy.array(biases)\n",
    "for k in range (len(biases)):\n",
    "    biases[k] = numpy.reshape(biases[k], (biases[k].shape[0],1))"
   ]
  },
  {
   "cell_type": "code",
   "execution_count": 10,
   "metadata": {
    "scrolled": true
   },
   "outputs": [
    {
     "name": "stderr",
     "output_type": "stream",
     "text": [
      "c:\\users\\surabhi\\appdata\\local\\programs\\python\\python35\\lib\\site-packages\\ipykernel_launcher.py:3: RuntimeWarning: overflow encountered in exp\n",
      "  This is separate from the ipykernel package so we can avoid doing imports until\n"
     ]
    },
    {
     "name": "stdout",
     "output_type": "stream",
     "text": [
      "0\n",
      "ACCURACY TRAIN =  0.8862\n",
      "ACCURACY TEST =  0.8967301811338508\n",
      "1\n",
      "ACCURACY TRAIN =  0.8989\n",
      "ACCURACY TEST =  0.906374970595154\n"
     ]
    },
    {
     "ename": "KeyboardInterrupt",
     "evalue": "",
     "output_type": "error",
     "traceback": [
      "\u001b[1;31m---------------------------------------------------------------------------\u001b[0m",
      "\u001b[1;31mKeyboardInterrupt\u001b[0m                         Traceback (most recent call last)",
      "\u001b[1;32m<ipython-input-10-0a0fe6aca0ce>\u001b[0m in \u001b[0;36m<module>\u001b[1;34m()\u001b[0m\n\u001b[0;32m     41\u001b[0m             \u001b[0mcnt\u001b[0m \u001b[1;33m=\u001b[0m \u001b[1;36m0\u001b[0m\u001b[1;33m\u001b[0m\u001b[0m\n\u001b[0;32m     42\u001b[0m \u001b[1;33m\u001b[0m\u001b[0m\n\u001b[1;32m---> 43\u001b[1;33m         \u001b[0mlayer_outputs\u001b[0m \u001b[1;33m=\u001b[0m \u001b[0mforwardprop\u001b[0m\u001b[1;33m(\u001b[0m\u001b[0mnumpy\u001b[0m\u001b[1;33m.\u001b[0m\u001b[0mreshape\u001b[0m\u001b[1;33m(\u001b[0m\u001b[0mx_train\u001b[0m\u001b[1;33m[\u001b[0m\u001b[0mimg\u001b[0m\u001b[1;33m]\u001b[0m\u001b[1;33m,\u001b[0m \u001b[1;33m(\u001b[0m\u001b[0mx_train\u001b[0m\u001b[1;33m[\u001b[0m\u001b[0mimg\u001b[0m\u001b[1;33m]\u001b[0m\u001b[1;33m.\u001b[0m\u001b[0mshape\u001b[0m\u001b[1;33m[\u001b[0m\u001b[1;36m0\u001b[0m\u001b[1;33m]\u001b[0m\u001b[1;33m,\u001b[0m\u001b[1;36m1\u001b[0m\u001b[1;33m)\u001b[0m\u001b[1;33m)\u001b[0m\u001b[1;33m,\u001b[0m \u001b[0mweights\u001b[0m\u001b[1;33m,\u001b[0m \u001b[0mbiases\u001b[0m\u001b[1;33m)\u001b[0m\u001b[1;33m\u001b[0m\u001b[0m\n\u001b[0m\u001b[0;32m     44\u001b[0m \u001b[1;33m\u001b[0m\u001b[0m\n\u001b[0;32m     45\u001b[0m         \u001b[0mwei\u001b[0m\u001b[1;33m,\u001b[0m \u001b[0mbia\u001b[0m \u001b[1;33m=\u001b[0m \u001b[0mbackwardprop\u001b[0m\u001b[1;33m(\u001b[0m\u001b[0mlayer_outputs\u001b[0m\u001b[1;33m,\u001b[0m \u001b[0mweights\u001b[0m\u001b[1;33m,\u001b[0m \u001b[0mbiases\u001b[0m\u001b[1;33m,\u001b[0m \u001b[0mexpected\u001b[0m\u001b[1;33m[\u001b[0m\u001b[0mimg\u001b[0m\u001b[1;33m]\u001b[0m\u001b[1;33m)\u001b[0m\u001b[1;33m\u001b[0m\u001b[0m\n",
      "\u001b[1;32m<ipython-input-5-517980ea7101>\u001b[0m in \u001b[0;36mforwardprop\u001b[1;34m(img, weights, biases)\u001b[0m\n\u001b[0;32m      5\u001b[0m \u001b[1;33m\u001b[0m\u001b[0m\n\u001b[0;32m      6\u001b[0m     \u001b[1;32mfor\u001b[0m \u001b[0mj\u001b[0m \u001b[1;32min\u001b[0m \u001b[0mrange\u001b[0m\u001b[1;33m(\u001b[0m\u001b[0mlen\u001b[0m\u001b[1;33m(\u001b[0m\u001b[0mweights\u001b[0m\u001b[1;33m)\u001b[0m\u001b[1;33m)\u001b[0m\u001b[1;33m:\u001b[0m\u001b[1;33m\u001b[0m\u001b[0m\n\u001b[1;32m----> 7\u001b[1;33m         \u001b[0mout\u001b[0m \u001b[1;33m=\u001b[0m \u001b[0msigact\u001b[0m\u001b[1;33m(\u001b[0m\u001b[0mnumpy\u001b[0m\u001b[1;33m.\u001b[0m\u001b[0mdot\u001b[0m\u001b[1;33m(\u001b[0m\u001b[0mweights\u001b[0m\u001b[1;33m[\u001b[0m\u001b[0mj\u001b[0m\u001b[1;33m]\u001b[0m\u001b[1;33m.\u001b[0m\u001b[0mT\u001b[0m\u001b[1;33m,\u001b[0m\u001b[0mout\u001b[0m\u001b[1;33m)\u001b[0m \u001b[1;33m+\u001b[0m \u001b[0mbiases\u001b[0m\u001b[1;33m[\u001b[0m\u001b[0mj\u001b[0m\u001b[1;33m]\u001b[0m\u001b[1;33m)\u001b[0m\u001b[1;33m\u001b[0m\u001b[0m\n\u001b[0m\u001b[0;32m      8\u001b[0m         \u001b[0mlayer_outputs\u001b[0m\u001b[1;33m.\u001b[0m\u001b[0mappend\u001b[0m\u001b[1;33m(\u001b[0m\u001b[0mout\u001b[0m\u001b[1;33m)\u001b[0m\u001b[1;33m\u001b[0m\u001b[0m\n\u001b[0;32m      9\u001b[0m \u001b[1;33m\u001b[0m\u001b[0m\n",
      "\u001b[1;31mKeyboardInterrupt\u001b[0m: "
     ]
    }
   ],
   "source": [
    "x_train, x_test, y_train, y_test = train_test_split(X, Y, test_size = 0.29825)\n",
    "\n",
    "num_images = len(x_train)\n",
    "batch_size = 20\n",
    "num_epochs = 100\n",
    "alpha = 0.01\n",
    "num_outputs = 2\n",
    "\n",
    "wei_tosend = []\n",
    "bia_tosend = []\n",
    "\n",
    "expected = []\n",
    "for a in range(len(y_train)):\n",
    "    if y_train[a] == 7:\n",
    "        expected.append(numpy.array([1,0]))\n",
    "        \n",
    "    elif y_train[a] == 9:\n",
    "        expected.append(numpy.array([0,1]))\n",
    "\n",
    "for k in range (len(expected)):\n",
    "    expected[k] = numpy.reshape(expected[k], (expected[k].shape[0],1))\n",
    "\n",
    "cnt = 0\n",
    "acc_arr = []\n",
    "acc_arr_train = []\n",
    "\n",
    "for epoch in range(num_epochs):\n",
    "    \n",
    "    for img in range(num_images):\n",
    "        \n",
    "        if(img % batch_size == 0 and img != 0):\n",
    "            for m in range(len(wei)):\n",
    "                wei_tosend[m] = numpy.divide(wei_tosend[m], batch_size)\n",
    "                bia_tosend[m] = numpy.divide(bia_tosend[m], batch_size)\n",
    "\n",
    "            \n",
    "            weights, biases = update_weights(wei_tosend, bia_tosend, weights, biases, alpha)\n",
    "            \n",
    "            wei_tosend = []\n",
    "            bia_tosend = []\n",
    "            cnt = 0\n",
    "            \n",
    "        layer_outputs = forwardprop(numpy.reshape(x_train[img], (x_train[img].shape[0],1)), weights, biases)\n",
    "\n",
    "        wei, bia = backwardprop(layer_outputs, weights, biases, expected[img])\n",
    "        \n",
    "        if(cnt == 0):\n",
    "            wei_tosend = wei\n",
    "            bia_tosend = bia\n",
    "            cnt = 1\n",
    "            \n",
    "        else:\n",
    "            for m in range(len(wei)):\n",
    "                wei_tosend[m] = numpy.add(wei_tosend[m], wei[m])\n",
    "                bia_tosend[m] = numpy.add(bia_tosend[m], bia[m])\n",
    "    \n",
    "    print(epoch)\n",
    "    \n",
    "    predictions_train = []\n",
    "    for train in range(len(x_train)):\n",
    "        layer_outputs = forwardprop(numpy.reshape(x_train[train], (x_train[train].shape[0],1)), weights, biases)\n",
    "\n",
    "        class_pred = numpy.argmax(layer_outputs[-1])\n",
    "        \n",
    "        if(class_pred == 0):\n",
    "            predictions_train.append(7)\n",
    "        elif(class_pred == 1):\n",
    "            predictions_train.append(9)\n",
    "    \n",
    "    \n",
    "    accuracy = accuracy_score(predictions_train, y_train)\n",
    "    print(\"ACCURACY TRAIN = \", accuracy)\n",
    "    acc_arr_train.append(accuracy)\n",
    "    \n",
    "    \n",
    "    predictions = []\n",
    "    for test in range(len(x_test)):\n",
    "        layer_outputs = forwardprop(numpy.reshape(x_test[test], (x_test[test].shape[0],1)), weights, biases)\n",
    "\n",
    "        class_pred = numpy.argmax(layer_outputs[-1])\n",
    "        \n",
    "        if(class_pred == 0):\n",
    "            predictions.append(7)\n",
    "        elif(class_pred == 1):\n",
    "            predictions.append(9)\n",
    "    \n",
    "    accuracy = accuracy_score(predictions, y_test)\n",
    "    print(\"ACCURACY TEST = \", accuracy)\n",
    "    acc_arr.append(accuracy)"
   ]
  },
  {
   "cell_type": "code",
   "execution_count": null,
   "metadata": {},
   "outputs": [],
   "source": [
    "f = open('weights2.pkl', 'wb')\n",
    "pickle.dump(weights, f)\n",
    "f.close()\n",
    "f = open('biases2.pkl', 'wb')\n",
    "pickle.dump(biases, f)\n",
    "f.close()"
   ]
  },
  {
   "cell_type": "code",
   "execution_count": 104,
   "metadata": {},
   "outputs": [
    {
     "data": {
      "image/png": "[encoded data removed]",
      "text/plain": [
       "<Figure size 432x288 with 1 Axes>"
      ]
     },
     "metadata": {},
     "output_type": "display_data"
    }
   ],
   "source": [
    "it = numpy.arange(1,len(acc_arr_train)+1)\n",
    "plt.plot(it,acc_arr_train)\n",
    "plt.title(\"Accuracy vs Epochs for Train set\")\n",
    "plt.xlabel(\"Epochs\")\n",
    "plt.ylabel(\"Accuracy\")\n",
    "plt.show()"
   ]
  },
  {
   "cell_type": "code",
   "execution_count": 105,
   "metadata": {},
   "outputs": [
    {
     "data": {
      "image/png": "[encoded data removed]",
      "text/plain": [
       "<Figure size 432x288 with 1 Axes>"
      ]
     },
     "metadata": {},
     "output_type": "display_data"
    }
   ],
   "source": [
    "it = numpy.arange(1,len(acc_arr)+1)\n",
    "plt.plot(it,acc_arr)\n",
    "plt.title(\"Accuracy vs Epochs for Test set\")\n",
    "plt.xlabel(\"Epochs\")\n",
    "plt.ylabel(\"Accuracy\")\n",
    "plt.show()"
   ]
  },
  {
   "cell_type": "code",
   "execution_count": null,
   "metadata": {},
   "outputs": [],
   "source": []
  }
 ],
 "metadata": {
  "kernelspec": {
   "display_name": "Python 3",
   "language": "python",
   "name": "python3"
  },
  "language_info": {
   "codemirror_mode": {
    "name": "ipython",
    "version": 3
   },
   "file_extension": ".py",
   "mimetype": "text/x-python",
   "name": "python",
   "nbconvert_exporter": "python",
   "pygments_lexer": "ipython3",
   "version": "3.5.2"
  }
 },
 "nbformat": 4,
 "nbformat_minor": 2
}
